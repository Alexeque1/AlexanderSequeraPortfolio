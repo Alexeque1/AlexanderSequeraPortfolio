{
  "cells": [
    {
      "cell_type": "markdown",
      "metadata": {
        "id": "piiX_CRNFYUi"
      },
      "source": [
        "# Technical Challenge ! Custiomers and Orders - The lifeblood of any business!\n",
        "\n",
        "This notebook depends on two data files: customers.scv and orders.csv. These files are hosted in the cloud (or Github), so for simplicity, we are providing you with the code to download and save the two files in a folder called 'sample_data' which lives within this notebook session (not on your local computer nor Google Drive).\n",
        "\n",
        "![sample_data folder in notebook session](https://raw.githubusercontent.com/anyoneai/notebooks/main/customers_and_orders/images/sample_data_folder.png)\n",
        "\n",
        "Please execute the first code snippet before moving to the rest of the exercise as this code will import the data from the files for you to be able to execute the rest of the exercise.\n",
        "\n",
        "Remember as we said in the previous lecture, you have to save this notebook into your Google Drive by going to menu File/Save a Copy In Drive, or clicking in the button \"Copy to Drive\". This way, you will not lose any work you've done and the file will persist with your latest changes in your Google Drive. Also we recommend you to rename your .ipynb in your Google Drive, so you can easily find it in the future."
      ]
    },
    {
      "cell_type": "code",
      "execution_count": 27,
      "metadata": {
        "colab": {
          "base_uri": "https://localhost:8080/"
        },
        "id": "MWpVO242FQHC",
        "outputId": "6783f798-71b2-4ca8-c7d9-1a1905818e14"
      },
      "outputs": [
        {
          "output_type": "stream",
          "name": "stdout",
          "text": [
            "Customers and orders CSV files have been added './sample_data'\n"
          ]
        }
      ],
      "source": [
        "import requests\n",
        "\n",
        "def import_data_files():\n",
        "  r = requests.get('https://raw.githubusercontent.com/anyoneai/notebooks/main/customers_and_orders/data/customers.csv')\n",
        "  with open('./sample_data/customers.csv', 'wb') as f:\n",
        "    f.write(r.content)\n",
        "\n",
        "  r = requests.get('https://raw.githubusercontent.com/anyoneai/notebooks/main/customers_and_orders/data/orders.csv')\n",
        "  with open('./sample_data/orders.csv', 'wb') as f:\n",
        "    f.write(r.content)\n",
        "\n",
        "import_data_files()\n",
        "print(\"Customers and orders CSV files have been added './sample_data'\")"
      ]
    },
    {
      "cell_type": "markdown",
      "metadata": {
        "id": "JQAduY-RWKyB"
      },
      "source": [
        "# Exercise 1: Processing Customers data (difficulty medium)\n",
        "\n",
        "The sample customer data in 'customers.csv' file has just 5 columns: CustomerId, First Name, Last Name, City and State\n",
        "\n",
        "![Data sample](https://raw.githubusercontent.com/anyoneai/notebooks/main/customers_and_orders/images/customers.png)\n",
        "\n",
        "We strongly recommend that you complete from the [Prep Course: Intro to Python](https://colab.research.google.com/github/anyoneai/notebooks/blob/main/python3_crash_course.ipynb) the following section:\n",
        "- Section 7: File I/O (to understand how to read CSV file)\n",
        "- Section 6: For Loop (to navigate the contents of the CSV file)\n",
        "- Section 5: Tuples, Lists, and Dictionaries (to manipulate the data of the CSV file)\n",
        "\n",
        "With this, we hope you can complete this exercise successfully. Although if you want to solve this with libraries or any other way, you are welcome to do it your way.\n",
        "\n",
        "*Hint:* We advise you to take a look at the data before you start.\n",
        "**if you want to manually take a look at the data before you start, please see the content of the data [here](https://github.com/anyoneai/notebooks/blob/main/customers_and_orders/data/customers.csv).\n",
        "\n",
        "*Hint*: There are many ways to do this exercise you can do your own, although here's some help. You can solve this exercise reading and parsing CSV files, structuring data into dictionaries, and using for loops to navigate the contents\n",
        "\n",
        "*Hint*: Also, keep in mind that data might not be clean and you might have to figure out how to deal with that data from the code, without having to modify the data source.\n",
        "\n",
        "Below are the 5 questions you'll have to answer to pass the evaluation:"
      ]
    },
    {
      "cell_type": "markdown",
      "metadata": {
        "id": "kJq7S8sBfbOW"
      },
      "source": [
        "**Question 1:** How many customers are in the file?\n",
        "\n",
        "1.   Elemento de lista\n",
        "2.   Elemento de lista\n",
        "\n",
        "\n",
        "(as help, we have added some comments and starter code to help you structure the solution)"
      ]
    },
    {
      "cell_type": "code",
      "execution_count": 6,
      "metadata": {
        "colab": {
          "base_uri": "https://localhost:8080/"
        },
        "id": "oMnUFBFb2RUb",
        "outputId": "a9aa65c3-9bc9-4519-a066-efb666a0a3b5"
      },
      "outputs": [
        {
          "output_type": "stream",
          "name": "stdout",
          "text": [
            "602\n",
            "All done!\n"
          ]
        }
      ],
      "source": [
        "from os.path import exists\n",
        "import csv\n",
        "\n",
        "# check if file can be found and open the file\n",
        "datafile = \"./sample_data/customers.csv\"\n",
        "if not exists(datafile):\n",
        "  raise SystemExit(\"You should run the first code cell and download the dataset files!\")\n",
        "\n",
        "# customers file is in the sample_data folder and can be opened.\n",
        "# Using csv reader is one way of dealing with the file\n",
        "# but it's up to you how you want to proceed\n",
        "customers = []\n",
        "with open(datafile, 'r') as fl:\n",
        "  csvreader = csv.reader(fl, delimiter=',')\n",
        "  headers = next(csvreader)\n",
        "\n",
        "  # loop through the rows and count etc. THE REST IS UP TO YOU!\n",
        "  for row in csvreader:\n",
        "    customers.append(dict(zip(headers, row)))\n",
        "\n",
        "print(f\"Customers: {len(customers)}\")\n",
        "print(\"All done!\")"
      ]
    },
    {
      "cell_type": "markdown",
      "metadata": {
        "id": "uffBnNgz_570"
      },
      "source": [
        "**Question 2:** In how many different states do the customers live in?"
      ]
    },
    {
      "cell_type": "code",
      "execution_count": 10,
      "metadata": {
        "id": "Bi_yid0sMe3-",
        "outputId": "ef26e9f5-7051-42ab-b3b7-8722d815019a",
        "colab": {
          "base_uri": "https://localhost:8080/"
        }
      },
      "outputs": [
        {
          "output_type": "stream",
          "name": "stdout",
          "text": [
            "States: 14\n"
          ]
        }
      ],
      "source": [
        "# open file and init vars\n",
        "# evaluate the contents of the file\n",
        "from collections import defaultdict\n",
        "states = defaultdict(int)\n",
        "\n",
        "for customer in customers:\n",
        "    state = customer[\"State\"].strip().upper()\n",
        "    states[state] += 1\n",
        "\n",
        "print(f\"States: {len(states)}\")\n",
        ""
      ]
    },
    {
      "cell_type": "markdown",
      "metadata": {
        "id": "DC59SZYiMfNY"
      },
      "source": [
        "**Question 3** What is the state with most customers?"
      ]
    },
    {
      "cell_type": "code",
      "execution_count": 13,
      "metadata": {
        "id": "tfGU3w-OMhA9",
        "outputId": "9e081289-9f93-406e-ee53-de8a0bd81234",
        "colab": {
          "base_uri": "https://localhost:8080/"
        }
      },
      "outputs": [
        {
          "output_type": "stream",
          "name": "stdout",
          "text": [
            "States: CA\n"
          ]
        }
      ],
      "source": [
        "# open file and init vars\n",
        "# evaluate the contents of the file\n",
        "states_most_customers = max(states, key=states.get)\n",
        "\n",
        "print(f\"States with most customers: {states_most_customers}\")"
      ]
    },
    {
      "cell_type": "markdown",
      "metadata": {
        "id": "7mcM6cUAMhLB"
      },
      "source": [
        "**Question 4** What is the state with the least customers?"
      ]
    },
    {
      "cell_type": "code",
      "execution_count": 18,
      "metadata": {
        "id": "8T0Ka2RqMi3P",
        "outputId": "7cb5ae28-04e8-4aee-eb9c-e08b4e54b448",
        "colab": {
          "base_uri": "https://localhost:8080/"
        }
      },
      "outputs": [
        {
          "output_type": "stream",
          "name": "stdout",
          "text": [
            "States with the least customers: ['WA', 'NH', 'ID', 'OR', 'MA', 'IN']\n"
          ]
        }
      ],
      "source": [
        "# open file and init vars\n",
        "# evaluate the contents of the file\n",
        "states_least_customers = min(states.values())\n",
        "states_least = [state for state, customers in states.items() if customers == 1]\n",
        "print(f\"States with the least customers: {states_least}\")"
      ]
    },
    {
      "cell_type": "markdown",
      "metadata": {
        "id": "h6fIy7hXHF6A"
      },
      "source": [
        "**Question 5:** What is the most common last name?"
      ]
    },
    {
      "cell_type": "code",
      "execution_count": 21,
      "metadata": {
        "id": "k8M1DmA75Km7",
        "outputId": "8e0126b8-2dd6-4b72-e43a-d91caf0585c0",
        "colab": {
          "base_uri": "https://localhost:8080/"
        }
      },
      "outputs": [
        {
          "output_type": "stream",
          "name": "stdout",
          "text": [
            "Most commons last names: ['smith']\n"
          ]
        }
      ],
      "source": [
        "# open file and init vars\n",
        "# evaluate the contents of the file\n",
        "last_names = defaultdict(int)\n",
        "for customer in customers:\n",
        "  last_name = customer[\"LastName\"].strip().lower()\n",
        "  last_names[last_name] += 1\n",
        "\n",
        "last_names_max_number = max(last_names.values())\n",
        "last_names_list = [last_name for last_name, num in last_names.items() if num == 8]\n",
        "print(f\"Most commons last names: {last_names_list}\")"
      ]
    },
    {
      "cell_type": "markdown",
      "metadata": {
        "id": "YPRma1t9NoFk"
      },
      "source": [
        "# Exercise 2: Processing Orders data (difficulty high)\n",
        "\n",
        "The second sample files contains orders placed by customers from the first file. Be careful, this file has many rows and you most likely should not print the contents of the whole file.\n",
        "\n",
        "The file contains the following columns: CustomerID, OrderID, Date, OrderTotal, ProductName, Price\n",
        "\n",
        "![Data sample](https://raw.githubusercontent.com/anyoneai/notebooks/main/customers_and_orders/images/orders.png)\n",
        "\n",
        "*Hint:* We advise you to take a look at the data before you start.\n",
        "**if you want to manually take a look at the data before you start, please see the content of the data [here](https://raw.githubusercontent.com/anyoneai/notebooks/main/customers_and_orders/data/orders.csv).\n",
        "\n",
        "*Hint*: There are many ways to do this exercise you can do your own, although here's some help. You can solve this exercise reading and parsing CSV files, structuring data into dictionaries, and using for loops to navigate the contents\n",
        "\n",
        "*Hint*: Also, the data is not clean and you will have to figure out how to deal with that data from the code, without having to modify the data source.\n",
        "\n",
        "\n",
        "\n",
        "**Question #1:** How many unique orders are in the orders.csv file?\n",
        "\n",
        "**Question #2:** What is the average number of items per order (rounded to two decimal places)?\n",
        "\n",
        "**Question #3:** What is the highest number of items per order?\n",
        "\n",
        "**Question #4:** What is the number of orders placed in October 2021?\n",
        "\n",
        "**Question #5:** Which customer spent the most amount of money in 2021?\n",
        "\n",
        "**Question #6:** Historically, what is the best month for sales?\n",
        "\n",
        "Once you get your answers, remember to go back to the course and introduce them in the multiple choice quiz"
      ]
    },
    {
      "cell_type": "code",
      "execution_count": 35,
      "metadata": {
        "id": "8ipJTrfs5QVM",
        "outputId": "0cfe8306-145e-45a6-9e6b-fd5a65ddec8d",
        "colab": {
          "base_uri": "https://localhost:8080/"
        }
      },
      "outputs": [
        {
          "output_type": "stream",
          "name": "stdout",
          "text": [
            "Unique orders: 16672\n",
            "Average number of items per order: 1.76\n",
            "Higest items:  35\n",
            "Amount in October 2021:  437\n"
          ]
        }
      ],
      "source": [
        "# open and evaluate orders.csv\n",
        "import datetime\n",
        "orders_file = \"./sample_data/orders.csv\"\n",
        "if not exists(datafile):\n",
        "  raise SystemExit(\"You should run the first code cell and download the dataset files!\")\n",
        "\n",
        "orders = []\n",
        "with open(orders_file, 'r') as ord:\n",
        "    reader = csv.DictReader(ord)\n",
        "\n",
        "    for row in reader:\n",
        "        orders.append(row)\n",
        "\n",
        "orders_ids = set()\n",
        "\n",
        "for order in orders:\n",
        "    order_id = order.get(\"OrderID\", \"\").strip()\n",
        "    if order_id and order_id != \"\":\n",
        "        orders_ids.add(order_id)\n",
        "\n",
        "print(f\"Unique orders: {len(list(orders_ids))}\")\n",
        "\n",
        "items_count = defaultdict(int)\n",
        "\n",
        "for order in orders:\n",
        "    order_id = order[\"OrderID\"].strip()\n",
        "    items_count[order_id] += 1\n",
        "\n",
        "total_items = sum(items_count.values())\n",
        "total_orders = len(items_count)\n",
        "\n",
        "average_items = total_items / total_orders\n",
        "\n",
        "average_items_rounded = round(average_items, 2)\n",
        "\n",
        "print(\"Average number of items per order:\", average_items_rounded)\n",
        "\n",
        "higest_items = max(items_count.values())\n",
        "\n",
        "print(\"Higest items: \", higest_items)\n",
        "\n",
        "data_oders = defaultdict(int)\n",
        "count = 0\n",
        "for order in orders:\n",
        "    if order[\"Date\"] != \"\":\n",
        "        date = datetime.datetime.strptime(order[\"Date\"], \"%Y-%m-%d %H:%M:%S.%f\").date()\n",
        "        compare_date = datetime.datetime(2021, 10, 31)\n",
        "        month = compare_date.month\n",
        "        year = compare_date.year\n",
        "\n",
        "        if date.month == month and date.year == year:\n",
        "            count += 1\n",
        "\n",
        "print(\"Amount in October 2021: \", count)\n",
        "\n",
        "total_per_id = defaultdict(float)\n",
        "\n",
        "for order in orders:\n",
        "    if order[\"Date\"].strip():\n",
        "        date_order = datetime.datetime.strptime(order[\"Date\"], \"%Y-%m-%d %H:%M:%S.%f\").date()\n",
        "        customer_ID = order[\"CustomerID\"].strip()\n",
        "        order_ID = order[\"OrderID\"].strip()\n",
        "\n",
        "        if date_order.year == 2021 and customer_ID != \"\":\n",
        "            if customer_ID not in total_per_id:\n",
        "                total_per_id[customer_ID] = {\n",
        "                    'OrderIDs': [],\n",
        "                    'Total': 0\n",
        "                }\n",
        "\n",
        "            if order_ID not in total_per_id[customer_ID]['OrderIDs']:\n",
        "                total_per_id[customer_ID]['OrderIDs'].append(order_ID)\n",
        "                total_per_id[customer_ID]['Total'] += float(order[\"OrderTotal\"])\n",
        "\n",
        "max_customer = max(total_per_id, key=lambda k: total_per_id[k][\"Total\"])\n",
        "print(max_customer, total_per_id[max_customer])\n",
        "\n",
        ""
      ]
    },
    {
      "cell_type": "markdown",
      "metadata": {
        "id": "ie0JW4FAk6Os"
      },
      "source": [
        "# Finished!\n",
        "\n",
        "Hope this was not too difficult and slicing and dicing the datasets was some fun. Now head on back to the course and provide the answers to the questions from this exercise."
      ]
    },
    {
      "cell_type": "code",
      "source": [],
      "metadata": {
        "id": "3vGaVn6Bneoh"
      },
      "execution_count": null,
      "outputs": []
    }
  ],
  "metadata": {
    "colab": {
      "name": "customers_and_orders.ipynb",
      "provenance": []
    },
    "kernelspec": {
      "display_name": "Python 3 (ipykernel)",
      "language": "python",
      "name": "python3"
    },
    "language_info": {
      "codemirror_mode": {
        "name": "ipython",
        "version": 3
      },
      "file_extension": ".py",
      "mimetype": "text/x-python",
      "name": "python",
      "nbconvert_exporter": "python",
      "pygments_lexer": "ipython3",
      "version": "3.9.9"
    }
  },
  "nbformat": 4,
  "nbformat_minor": 0
}